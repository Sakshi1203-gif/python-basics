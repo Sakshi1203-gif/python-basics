{
 "cells": [
  {
   "cell_type": "markdown",
   "id": "59065cb6",
   "metadata": {},
   "source": [
    "# Python Basic"
   ]
  },
  {
   "cell_type": "raw",
   "id": "c79ab086",
   "metadata": {},
   "source": [
    "1. what is Python, and why is it popular"
   ]
  },
  {
   "cell_type": "raw",
   "id": "914022d8",
   "metadata": {},
   "source": [
    "ans:Python is a high-level, easy-to-learn programming language known for its simplicity and readability. It's popular because it's versatile (used in web development, data science, automation, and more), has a large supportive community, and offers a rich set of libraries and frameworks. Its simple syntax, cross-platform compatibility, and ability to handle complex tasks with less code make it a favorite among both beginners and experienced developers."
   ]
  },
  {
   "cell_type": "raw",
   "id": "a3374292",
   "metadata": {},
   "source": [
    "2.What is an interpreter in Python"
   ]
  },
  {
   "cell_type": "raw",
   "id": "d51ba8ff",
   "metadata": {},
   "source": [
    "ans:An interpreter in Python is a program that reads and executes Python code line by line. Unlike a compiler, which translates the entire code into machine language before execution, an interpreter directly executes the instructions in the code."
   ]
  },
  {
   "cell_type": "raw",
   "id": "b0d49c09",
   "metadata": {},
   "source": [
    "3. What are pre-defined keywords in Python"
   ]
  },
  {
   "cell_type": "raw",
   "id": "a862d22f",
   "metadata": {},
   "source": [
    "ans:Pre-defined keywords in Python are reserved words that have a special meaning and function within the language. They cannot be used as identifiers (such as variable names, function names, etc.) because they are reserved for specific syntactic purposes."
   ]
  },
  {
   "cell_type": "raw",
   "id": "77635ede",
   "metadata": {},
   "source": [
    "4.Can keywords be used as variable names"
   ]
  },
  {
   "cell_type": "raw",
   "id": "6acf9a35",
   "metadata": {},
   "source": [
    "ans:No, keywords in Python cannot be used as variable names. Keywords are reserved by the Python language for specific syntactic purposes, and trying to use them as identifiers (such as variable names, function names, etc.) will result in a syntax error."
   ]
  },
  {
   "cell_type": "raw",
   "id": "2228851e",
   "metadata": {},
   "source": [
    "5.What is mutability in Python"
   ]
  },
  {
   "cell_type": "raw",
   "id": "f6df8c3e",
   "metadata": {},
   "source": [
    "ans:Mutability in Python refers to whether an object's state (its contents or value) can be changed after it is created.\n",
    "\n",
    "Mutable objects can have their content or state modified after they are created."
   ]
  },
  {
   "cell_type": "raw",
   "id": "486082c5",
   "metadata": {},
   "source": [
    "6.Why are lists mutable, but tuples are immutable"
   ]
  },
  {
   "cell_type": "raw",
   "id": "1842300d",
   "metadata": {},
   "source": [
    "ans:list=Lists are often used when you need to store and manipulate data that can change, such as appending items, modifying elements, or sorting the list.\n",
    "\n",
    "tuple=Tuples are designed to represent fixed, unchangeable collections of items. They are intended for cases where you want to ensure that the data remains constant, such as storing coordinates, configurations, or fixed sets of values."
   ]
  },
  {
   "cell_type": "raw",
   "id": "100450ca",
   "metadata": {},
   "source": [
    "7.What is the difference between “==” and “is” operators in Python"
   ]
  },
  {
   "cell_type": "raw",
   "id": "c1058c85",
   "metadata": {},
   "source": [
    "ans:== (Equality Operator):Purpose: Checks if the values of two objects are equal.\n",
    "\n",
    "Usage: It compares the contents of the objects (i.e., whether the values inside the objects are the same)\n",
    "\n",
    "\n",
    " is (Identity Operator):Purpose: Checks if two variables refer to the same object in memory (i.e., if they have the same identity).\n",
    "  \n",
    "Usage: It compares the memory addresses of the objects to see if they are the same object, not just if they have the same value.\n",
    "  \n",
    "    "
   ]
  },
  {
   "cell_type": "raw",
   "id": "7eaddc63",
   "metadata": {},
   "source": [
    "8.What are logical operators in Python"
   ]
  },
  {
   "cell_type": "raw",
   "id": "b6060fc2",
   "metadata": {},
   "source": [
    "ans:logical operators are used to combine conditional statements and evaluate expressions based on boolean logic. The three main logical operators are:\n",
    "\n",
    "1)and (Logical AND)\n",
    "Purpose: Returns True if both operands (conditions) are True; otherwise, it returns False.\n",
    "Usage: It is used when you need both conditions to be true for the overall expression to be true.\n",
    "\n",
    "2)or (Logical OR)\n",
    "Purpose: Returns True if at least one of the operands (conditions) is True; otherwise, it returns False.\n",
    "Usage: It is used when you need at least one condition to be true for the overall expression to be true.\n",
    "\n",
    "3)not (Logical NOT)\n",
    "Purpose: Reverses (negates) the boolean value of the operand. If the condition is True, it returns False, and if the condition is False, it returns True.\n",
    "Usage: It is used to invert the truth value of a condition."
   ]
  },
  {
   "cell_type": "raw",
   "id": "34944eb7",
   "metadata": {},
   "source": [
    "9.What is type casting in Python"
   ]
  },
  {
   "cell_type": "raw",
   "id": "9b11fa4b",
   "metadata": {},
   "source": [
    "ans:Type casting in Python is the process of converting one data type to another."
   ]
  },
  {
   "cell_type": "raw",
   "id": "d1be6d48",
   "metadata": {},
   "source": [
    "10.What is the difference between implicit and explicit type casting"
   ]
  },
  {
   "cell_type": "raw",
   "id": "fd8320d9",
   "metadata": {},
   "source": [
    "ans:\n",
    "1)Implicit Type Casting (Automatic Conversion):\n",
    "-Performed by Python automatically.\n",
    "-Occurs when Python automatically converts a smaller data type to a -larger one to avoid data loss.\n",
    "-Happens implicitly when performing operations that require different types, like adding an integer to a float.\n",
    "\n",
    "2)Explicit Type Casting (Manual Conversion):\n",
    "-Performed by the programmer.\n",
    "-The programmer explicitly converts one data type into another using -functions like int(), float(), str(), etc.\n",
    "-The programmer decides when and how to convert types."
   ]
  },
  {
   "cell_type": "raw",
   "id": "053ac507",
   "metadata": {},
   "source": [
    "11.What is the purpose of conditional statements in Python"
   ]
  },
  {
   "cell_type": "raw",
   "id": "3624b563",
   "metadata": {},
   "source": [
    "ans:The purpose of conditional statements in Python is to allow the program to make decisions based on certain conditions. They enable the program to execute specific blocks of code depending on whether a condition is True or False. This makes the program more dynamic and capable of responding to different inputs or situations."
   ]
  },
  {
   "cell_type": "raw",
   "id": "cf185d40",
   "metadata": {},
   "source": [
    "12.How does the elif statement work"
   ]
  },
  {
   "cell_type": "raw",
   "id": "6ddf0f8a",
   "metadata": {},
   "source": [
    "ans:The if statement is evaluated first.\n",
    "-If the condition of the if statement is True, the block of code under if is executed, and the remaining elif or else blocks are skipped.\n",
    "-If the condition of the if statement is False, the program will check the next elif condition.\n",
    "-If none of the if or elif conditions are True, the else block (if present) will be executed."
   ]
  },
  {
   "cell_type": "raw",
   "id": "bf26f5b0",
   "metadata": {},
   "source": [
    "13.What is the difference between for and while loops"
   ]
  },
  {
   "cell_type": "raw",
   "id": "711b3714",
   "metadata": {},
   "source": [
    "ans:\n",
    "For Loop:\n",
    "Usage: The for loop is typically used when the number of iterations is known or can be determined before the loop starts.\n",
    "Structure: It generally includes an initialization step, a condition (expression), and an increment/decrement step in one line.\n",
    "\n",
    "While Loop:\n",
    "Usage: The while loop is used when the number of iterations is not known beforehand, and the loop continues as long as a specific condition is true.\n",
    "Structure: It only includes a condition that must evaluate to True for the loop to continue.\n",
    "\n",
    "Use a for loop when you know beforehand how many times the loop should run.\n",
    "Use a while loop when you need the loop to continue running based on a condition that might change during execution.\n",
    "\n",
    "\n",
    "\n",
    "    "
   ]
  },
  {
   "cell_type": "raw",
   "id": "75ca0236",
   "metadata": {},
   "source": [
    "14. Describe a scenario where a while loop is more suitable than a for loop."
   ]
  },
  {
   "cell_type": "raw",
   "id": "ab9b560b",
   "metadata": {},
   "source": [
    "A while loop is more suitable than a for loop when the number of iterations is unknown and depends on a condition that may change during execution.\n",
    "\n",
    "For example, in a scenario where you need to repeatedly ask a user for valid input (like a password) until they enter the correct format, the while loop will continue running as long as the condition (valid input) is not met, making it ideal for such situations.\n",
    "\n",
    "\n",
    "\n"
   ]
  },
  {
   "cell_type": "markdown",
   "id": "f5fc5012",
   "metadata": {},
   "source": [
    "# Practical Questions"
   ]
  },
  {
   "cell_type": "raw",
   "id": "7d3fb3e4",
   "metadata": {},
   "source": [
    "1.Write a Python program to print \"Hello, World!"
   ]
  },
  {
   "cell_type": "code",
   "execution_count": 1,
   "id": "a865dcb8",
   "metadata": {},
   "outputs": [
    {
     "name": "stdout",
     "output_type": "stream",
     "text": [
      "Hello, World!\n"
     ]
    }
   ],
   "source": [
    "print(\"Hello, World!\")\n"
   ]
  },
  {
   "cell_type": "raw",
   "id": "92fb7a33",
   "metadata": {},
   "source": [
    "2. Write a Python program that displays your name and age"
   ]
  },
  {
   "cell_type": "code",
   "execution_count": 2,
   "id": "1fc68051",
   "metadata": {},
   "outputs": [
    {
     "name": "stdout",
     "output_type": "stream",
     "text": [
      "Name: John Doe\n",
      "Age: 25\n"
     ]
    }
   ],
   "source": [
    "# Define variables for name and age\n",
    "name = \"John Doe\"  # Replace with your name\n",
    "age = 25           # Replace with your age\n",
    "\n",
    "# Display the name and age\n",
    "print(\"Name:\", name)\n",
    "print(\"Age:\", age)\n"
   ]
  },
  {
   "cell_type": "raw",
   "id": "f9672917",
   "metadata": {},
   "source": [
    "3.Write code to print all the pre-defined keywords in Python using the keyword library"
   ]
  },
  {
   "cell_type": "code",
   "execution_count": 3,
   "id": "2ed90a1d",
   "metadata": {},
   "outputs": [
    {
     "name": "stdout",
     "output_type": "stream",
     "text": [
      "Python Keywords:\n",
      "['False', 'None', 'True', '__peg_parser__', 'and', 'as', 'assert', 'async', 'await', 'break', 'class', 'continue', 'def', 'del', 'elif', 'else', 'except', 'finally', 'for', 'from', 'global', 'if', 'import', 'in', 'is', 'lambda', 'nonlocal', 'not', 'or', 'pass', 'raise', 'return', 'try', 'while', 'with', 'yield']\n"
     ]
    }
   ],
   "source": [
    "import keyword\n",
    "\n",
    "# Print all the keywords in Python\n",
    "print(\"Python Keywords:\")\n",
    "print(keyword.kwlist)\n"
   ]
  },
  {
   "cell_type": "raw",
   "id": "3002297d",
   "metadata": {},
   "source": [
    "4. Write a program that checks if a given word is a Python keyword"
   ]
  },
  {
   "cell_type": "code",
   "execution_count": 5,
   "id": "24c71686",
   "metadata": {},
   "outputs": [
    {
     "name": "stdout",
     "output_type": "stream",
     "text": [
      "Enter a word: if\n",
      "'if' is a Python keyword.\n"
     ]
    }
   ],
   "source": [
    "import keyword\n",
    "\n",
    "# Get user input\n",
    "word = input(\"Enter a word: \")\n",
    "\n",
    "# Check if the word is a Python keyword\n",
    "if keyword.iskeyword(word):\n",
    "    print(f\"'{word}' is a Python keyword.\")\n",
    "else:\n",
    "    print(f\"'{word}' is not a Python keyword.\")\n"
   ]
  },
  {
   "cell_type": "raw",
   "id": "6e4c418a",
   "metadata": {},
   "source": [
    "5.create a list and tuple in Python, and demonstrate how attempting to change an element works differently\n",
    "for each"
   ]
  },
  {
   "cell_type": "code",
   "execution_count": 6,
   "id": "7e84d806",
   "metadata": {},
   "outputs": [
    {
     "name": "stdout",
     "output_type": "stream",
     "text": [
      "Original List: [1, 2, 3, 4, 5]\n",
      "Modified List: [1, 2, 10, 4, 5]\n",
      "Original Tuple: (1, 2, 3, 4, 5)\n",
      "Error: 'tuple' object does not support item assignment\n"
     ]
    }
   ],
   "source": [
    "# Create a list and a tuple\n",
    "my_list = [1, 2, 3, 4, 5]\n",
    "my_tuple = (1, 2, 3, 4, 5)\n",
    "\n",
    "# Attempt to change an element in the list\n",
    "print(\"Original List:\", my_list)\n",
    "my_list[2] = 10  # This works\n",
    "print(\"Modified List:\", my_list)\n",
    "\n",
    "# Attempt to change an element in the tuple\n",
    "print(\"Original Tuple:\", my_tuple)\n",
    "try:\n",
    "    my_tuple[2] = 10  # This will raise an error\n",
    "except TypeError as e:\n",
    "    print(\"Error:\", e)\n"
   ]
  },
  {
   "cell_type": "raw",
   "id": "1f81babb",
   "metadata": {},
   "source": [
    "6.Write a function to demonstrate the behavior of mutable and immutable arguments"
   ]
  },
  {
   "cell_type": "code",
   "execution_count": 7,
   "id": "9ef7f8c9",
   "metadata": {},
   "outputs": [
    {
     "name": "stdout",
     "output_type": "stream",
     "text": [
      "Before function call:\n",
      "Original my_list: [1, 2, 3]\n",
      "Original my_number: 5\n",
      "Inside function:\n",
      "Modified mutable_arg: [1, 2, 3, 100]\n",
      "Modified immutable_arg: 15\n",
      "\n",
      "After function call:\n",
      "Original my_list: [1, 2, 3, 100]\n",
      "Original my_number: 5\n"
     ]
    }
   ],
   "source": [
    "def demonstrate_mutable_immutable(mutable_arg, immutable_arg):\n",
    "    # Modify the mutable argument (list)\n",
    "    mutable_arg.append(100)  # This will change the original list\n",
    "\n",
    "    # Modify the immutable argument (integer)\n",
    "    immutable_arg += 10  # This creates a new integer and does not change the original one\n",
    "\n",
    "    # Print the results inside the function\n",
    "    print(\"Inside function:\")\n",
    "    print(\"Modified mutable_arg:\", mutable_arg)\n",
    "    print(\"Modified immutable_arg:\", immutable_arg)\n",
    "\n",
    "# Example usage\n",
    "my_list = [1, 2, 3]\n",
    "my_number = 5\n",
    "\n",
    "print(\"Before function call:\")\n",
    "print(\"Original my_list:\", my_list)\n",
    "print(\"Original my_number:\", my_number)\n",
    "\n",
    "# Call the function\n",
    "demonstrate_mutable_immutable(my_list, my_number)\n",
    "\n",
    "print(\"\\nAfter function call:\")\n",
    "print(\"Original my_list:\", my_list)  # List is modified\n",
    "print(\"Original my_number:\", my_number)  # Number is not modified\n"
   ]
  },
  {
   "cell_type": "raw",
   "id": "5965d03a",
   "metadata": {},
   "source": [
    "7.Write a function to demonstrate the behavior of mutable and immutable arguments"
   ]
  },
  {
   "cell_type": "code",
   "execution_count": 9,
   "id": "62079f75",
   "metadata": {},
   "outputs": [
    {
     "name": "stdout",
     "output_type": "stream",
     "text": [
      "Before function call:\n",
      "Original my_list: [1, 2, 3]\n",
      "Original my_number: 5\n",
      "Inside function:\n",
      "Modified mutable_arg: [1, 2, 3, 100]\n",
      "Modified immutable_arg: 15\n",
      "\n",
      "After function call:\n",
      "Original my_list: [1, 2, 3, 100]\n",
      "Original my_number: 5\n"
     ]
    }
   ],
   "source": [
    "def demonstrate_mutable_immutable(mutable_arg, immutable_arg):\n",
    "    # Modify the mutable argument (list)\n",
    "    mutable_arg.append(100)  # This will change the original list\n",
    "\n",
    "    # Modify the immutable argument (integer)\n",
    "    immutable_arg += 10  # This creates a new integer and does not change the original one\n",
    "\n",
    "    # Print the results inside the function\n",
    "    print(\"Inside function:\")\n",
    "    print(\"Modified mutable_arg:\", mutable_arg)\n",
    "    print(\"Modified immutable_arg:\", immutable_arg)\n",
    "\n",
    "# Example usage\n",
    "my_list = [1, 2, 3]\n",
    "my_number = 5\n",
    "\n",
    "print(\"Before function call:\")\n",
    "print(\"Original my_list:\", my_list)\n",
    "print(\"Original my_number:\", my_number)\n",
    "\n",
    "# Call the function\n",
    "demonstrate_mutable_immutable(my_list, my_number)\n",
    "\n",
    "print(\"\\nAfter function call:\")\n",
    "print(\"Original my_list:\", my_list)  # List is modified\n",
    "print(\"Original my_number:\", my_number)  # Number is not modified\n"
   ]
  },
  {
   "cell_type": "raw",
   "id": "949e931d",
   "metadata": {},
   "source": [
    "8.Write a program to demonstrate the use of logical operators"
   ]
  },
  {
   "cell_type": "code",
   "execution_count": 10,
   "id": "2ab29bd4",
   "metadata": {},
   "outputs": [
    {
     "name": "stdout",
     "output_type": "stream",
     "text": [
      "Both conditions are True (x > y and z > x)\n",
      "At least one condition is True (x < y or z > x)\n",
      "The condition (x < y) is False, so 'not' makes it True\n",
      "This combined condition is True\n"
     ]
    }
   ],
   "source": [
    "# Define some sample variables\n",
    "x = 10\n",
    "y = 5\n",
    "z = 15\n",
    "\n",
    "# Use 'and' operator: Both conditions must be True\n",
    "if x > y and z > x:\n",
    "    print(\"Both conditions are True (x > y and z > x)\")\n",
    "\n",
    "# Use 'or' operator: At least one condition must be True\n",
    "if x < y or z > x:\n",
    "    print(\"At least one condition is True (x < y or z > x)\")\n",
    "\n",
    "# Use 'not' operator: Inverts the truth value of the condition\n",
    "if not x < y:\n",
    "    print(\"The condition (x < y) is False, so 'not' makes it True\")\n",
    "\n",
    "# Combine multiple logical operators\n",
    "if (x > y and z > x) or x == 10:\n",
    "    print(\"This combined condition is True\")\n"
   ]
  },
  {
   "cell_type": "raw",
   "id": "c406ebbe",
   "metadata": {},
   "source": [
    "9. Write a Python program to convert user input from string to integer, float, and boolean types"
   ]
  },
  {
   "cell_type": "code",
   "execution_count": 11,
   "id": "409a81ea",
   "metadata": {},
   "outputs": [
    {
     "name": "stdout",
     "output_type": "stream",
     "text": [
      "Enter a value: sakshi\n",
      "Input cannot be converted to an integer.\n",
      "Input cannot be converted to a float.\n",
      "Converted to boolean: True\n"
     ]
    }
   ],
   "source": [
    "# Get user input as a string\n",
    "user_input = input(\"Enter a value: \")\n",
    "\n",
    "# Convert to integer (if possible)\n",
    "try:\n",
    "    integer_value = int(user_input)\n",
    "    print(\"Converted to integer:\", integer_value)\n",
    "except ValueError:\n",
    "    print(\"Input cannot be converted to an integer.\")\n",
    "\n",
    "# Convert to float (if possible)\n",
    "try:\n",
    "    float_value = float(user_input)\n",
    "    print(\"Converted to float:\", float_value)\n",
    "except ValueError:\n",
    "    print(\"Input cannot be converted to a float.\")\n",
    "\n",
    "# Convert to boolean\n",
    "# Any non-empty string is considered True, an empty string is False\n",
    "boolean_value = bool(user_input)\n",
    "print(\"Converted to boolean:\", boolean_value)\n"
   ]
  },
  {
   "cell_type": "raw",
   "id": "8d7ca73e",
   "metadata": {},
   "source": [
    "10.Write code to demonstrate type casting with list elements"
   ]
  },
  {
   "cell_type": "code",
   "execution_count": 17,
   "id": "ef2b8690",
   "metadata": {},
   "outputs": [
    {
     "name": "stdout",
     "output_type": "stream",
     "text": [
      "List of integers: [1, 2, 3, 4, 5]\n",
      "List of floats: [1.0, 2.0, 3.0, 4.0, 5.0]\n"
     ]
    }
   ],
   "source": [
    "# Original list of strings\n",
    "str_list = [\"1\", \"2\", \"3\", \"4\", \"5\"]\n",
    "\n",
    "# Convert strings to integers\n",
    "int_list = [int(item) for item in str_list]\n",
    "print(\"List of integers:\", int_list)\n",
    "\n",
    "# Convert integers to floats\n",
    "float_list = [float(item) for item in int_list]\n",
    "print(\"List of floats:\", float_list)\n"
   ]
  },
  {
   "cell_type": "raw",
   "id": "a7eeb7fe",
   "metadata": {},
   "source": [
    "11.Write a program that checks if a number is positive, negative, or zero"
   ]
  },
  {
   "cell_type": "code",
   "execution_count": 18,
   "id": "9d9e086c",
   "metadata": {},
   "outputs": [
    {
     "name": "stdout",
     "output_type": "stream",
     "text": [
      "Enter a number: 12\n",
      "The number is positive.\n"
     ]
    }
   ],
   "source": [
    "# Get input from the user\n",
    "number = float(input(\"Enter a number: \"))\n",
    "\n",
    "# Check if the number is positive, negative, or zero\n",
    "if number > 0:\n",
    "    print(\"The number is positive.\")\n",
    "elif number < 0:\n",
    "    print(\"The number is negative.\")\n",
    "else:\n",
    "    print(\"The number is zero.\")\n"
   ]
  },
  {
   "cell_type": "raw",
   "id": "5ef15454",
   "metadata": {},
   "source": [
    "12.Write a for loop to print numbers from 1 to 100"
   ]
  },
  {
   "cell_type": "code",
   "execution_count": 19,
   "id": "548d5f5c",
   "metadata": {},
   "outputs": [
    {
     "name": "stdout",
     "output_type": "stream",
     "text": [
      "1\n",
      "2\n",
      "3\n",
      "4\n",
      "5\n",
      "6\n",
      "7\n",
      "8\n",
      "9\n",
      "10\n",
      "11\n",
      "12\n",
      "13\n",
      "14\n",
      "15\n",
      "16\n",
      "17\n",
      "18\n",
      "19\n",
      "20\n",
      "21\n",
      "22\n",
      "23\n",
      "24\n",
      "25\n",
      "26\n",
      "27\n",
      "28\n",
      "29\n",
      "30\n",
      "31\n",
      "32\n",
      "33\n",
      "34\n",
      "35\n",
      "36\n",
      "37\n",
      "38\n",
      "39\n",
      "40\n",
      "41\n",
      "42\n",
      "43\n",
      "44\n",
      "45\n",
      "46\n",
      "47\n",
      "48\n",
      "49\n",
      "50\n",
      "51\n",
      "52\n",
      "53\n",
      "54\n",
      "55\n",
      "56\n",
      "57\n",
      "58\n",
      "59\n",
      "60\n",
      "61\n",
      "62\n",
      "63\n",
      "64\n",
      "65\n",
      "66\n",
      "67\n",
      "68\n",
      "69\n",
      "70\n",
      "71\n",
      "72\n",
      "73\n",
      "74\n",
      "75\n",
      "76\n",
      "77\n",
      "78\n",
      "79\n",
      "80\n",
      "81\n",
      "82\n",
      "83\n",
      "84\n",
      "85\n",
      "86\n",
      "87\n",
      "88\n",
      "89\n",
      "90\n",
      "91\n",
      "92\n",
      "93\n",
      "94\n",
      "95\n",
      "96\n",
      "97\n",
      "98\n",
      "99\n",
      "100\n"
     ]
    }
   ],
   "source": [
    "# For loop to print numbers from 1 to 100\n",
    "for i in range(1, 101):\n",
    "    print(i)\n"
   ]
  },
  {
   "cell_type": "raw",
   "id": "91d808d7",
   "metadata": {},
   "source": [
    "13.Write a Python program to find the sum of all even numbers between 1 and 500"
   ]
  },
  {
   "cell_type": "code",
   "execution_count": 20,
   "id": "2f3a715d",
   "metadata": {},
   "outputs": [
    {
     "name": "stdout",
     "output_type": "stream",
     "text": [
      "The sum of all even numbers between 1 and 500 is: 62750\n"
     ]
    }
   ],
   "source": [
    "# Initialize the sum to 0\n",
    "sum_even = 0\n",
    "\n",
    "# Iterate through numbers from 1 to 500\n",
    "for i in range(2, 501, 2):  # Start from 2 and step by 2 to get only even numbers\n",
    "    sum_even += i\n",
    "\n",
    "# Print the result\n",
    "print(\"The sum of all even numbers between 1 and 500 is:\", sum_even)\n"
   ]
  },
  {
   "cell_type": "raw",
   "id": "2ad4a5c0",
   "metadata": {},
   "source": [
    "14.Write a program to reverse a string using a while loop"
   ]
  },
  {
   "cell_type": "code",
   "execution_count": 22,
   "id": "c8f13ad7",
   "metadata": {},
   "outputs": [
    {
     "name": "stdout",
     "output_type": "stream",
     "text": [
      "Enter a string: sakshi\n",
      "Reversed string: ihskas\n"
     ]
    }
   ],
   "source": [
    "# Input string from the user\n",
    "input_string = input(\"Enter a string: \")\n",
    "\n",
    "# Initialize the reversed string as an empty string\n",
    "reversed_string = \"\"\n",
    "\n",
    "# Initialize a variable to keep track of the index\n",
    "index = len(input_string) - 1\n",
    "\n",
    "# Use a while loop to reverse the string\n",
    "while index >= 0:\n",
    "    reversed_string += input_string[index]\n",
    "    index -= 1\n",
    "\n",
    "# Print the reversed string\n",
    "print(\"Reversed string:\", reversed_string)\n"
   ]
  },
  {
   "cell_type": "raw",
   "id": "97171b0f",
   "metadata": {},
   "source": [
    "15.Write a Python program to calculate the factorial of a number provided by the user using a while loop"
   ]
  },
  {
   "cell_type": "code",
   "execution_count": 23,
   "id": "6ceefff3",
   "metadata": {},
   "outputs": [
    {
     "name": "stdout",
     "output_type": "stream",
     "text": [
      "Enter a number to calculate its factorial: 5\n",
      "The factorial is: 120\n"
     ]
    }
   ],
   "source": [
    "# Input the number from the user\n",
    "num = int(input(\"Enter a number to calculate its factorial: \"))\n",
    "\n",
    "# Initialize the factorial result to 1\n",
    "factorial = 1\n",
    "\n",
    "# Check if the number is negative, zero, or positive\n",
    "if num < 0:\n",
    "    print(\"Factorial does not exist for negative numbers.\")\n",
    "elif num == 0:\n",
    "    print(\"The factorial of 0 is 1.\")\n",
    "else:\n",
    "    # Calculate the factorial using a while loop\n",
    "    while num > 0:\n",
    "        factorial *= num  # Multiply factorial by num\n",
    "        num -= 1  # Decrement num by 1\n",
    "\n",
    "    # Print the result\n",
    "    print(\"The factorial is:\", factorial)\n"
   ]
  },
  {
   "cell_type": "code",
   "execution_count": null,
   "id": "6aa4b23d",
   "metadata": {},
   "outputs": [],
   "source": []
  }
 ],
 "metadata": {
  "kernelspec": {
   "display_name": "Python 3 (ipykernel)",
   "language": "python",
   "name": "python3"
  },
  "language_info": {
   "codemirror_mode": {
    "name": "ipython",
    "version": 3
   },
   "file_extension": ".py",
   "mimetype": "text/x-python",
   "name": "python",
   "nbconvert_exporter": "python",
   "pygments_lexer": "ipython3",
   "version": "3.9.7"
  }
 },
 "nbformat": 4,
 "nbformat_minor": 5
}
